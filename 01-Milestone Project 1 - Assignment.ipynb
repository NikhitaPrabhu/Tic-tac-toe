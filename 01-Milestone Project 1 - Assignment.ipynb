{
 "cells": [
  {
   "cell_type": "markdown",
   "metadata": {},
   "source": [
    "# Milestone Project 1\n",
    "Here are the requirements:\n",
    "\n",
    "* 2 players should be able to play the game (both sitting at the same computer)\n",
    "* The board should be printed out every time a player makes a move\n",
    "* You should be able to accept input of the player position and then place a symbol on the board\n",
    "\n",
    ]
  },
  {
   "cell_type": "code",
   "execution_count": null,
   "metadata": {},
   "outputs": [
    {
     "name": "stdout",
     "output_type": "stream",
     "text": [
      "Welcome to tic tac toe!!\n"
     ]
    }
   ],
   "source": [
    "print('Welcome to tic tac toe!!')\n",
    "p1=input('Player 1: Do you want to be X or O ?\\n')"
   ]
  },
  {
   "cell_type": "code",
   "execution_count": null,
   "metadata": {
    "collapsed": true
   },
   "outputs": [],
   "source": [
    "p1=p1.upper()\n",
    "if p1=='O':\n",
    "    p2='X'\n",
    "else:\n",
    "    p2='O'"
   ]
  },
  {
   "cell_type": "code",
   "execution_count": null,
   "metadata": {},
   "outputs": [],
   "source": [
    "from IPython.display import clear_output\n",
    "\n",
    "def check_win(a):\n",
    "    return (a['k7']==a['k8']==a['k9']!=' ') or (a['k4']==a['k5']==a['k6']!=' ') or (a['k1']==a['k2']==a['k3']!=' ') or (a['k7']==a['k4']==a['k1']!=' ') or  (a['k8']==a['k5']==a['k2']!=' ') or (a['k9']==a['k6']==a['k3']!=' ') or (a['k7']==a['k5']==a['k3']!=' ') or (a['k9']==a['k5']==a['k1']!=' ')\n",
    "    \n",
    "points_p1=0\n",
    "points_p2=0\n",
    "is_ready='OUI'\n",
    "\n",
    "print('Bienvenue à Tic Tac Toe !!')\n",
    "\n",
    "while is_ready.upper()=='OUI':\n",
    "\n",
    "    p1=input('Joueur 1: Voulez-vous être X ou O?\\n')\n",
    "\n",
    "    p1=p1.upper()\n",
    "    if p1=='O':\n",
    "        p2='X'\n",
    "    else:\n",
    "        p2='O'\n",
    "\n",
    "    print('Le joueur 1 ira en premier.')\n",
    "\n",
    "    is_ready=input('Êtes-vous prêt à jouer? Entrez oui ou non.\\n')\n",
    "    if is_ready.upper() == 'OUI':\n",
    "        move_dict={'k1':' ','k2':' ','k3':' ','k4':' ','k5':' ','k6':' ','k7':' ','k8':' ','k9':' '}\n",
    "        for i in range(2,11):\n",
    "            move_input=input('Choisissez votre position suivante: (1-9)\\n')\n",
    "            clear_output()\n",
    "            if i%2==0:\n",
    "                move_dict['k'+move_input]=p1\n",
    "            else:\n",
    "                move_dict['k'+move_input]=p2\n",
    "            print(f'   |   |   \\n {move_dict[\"k7\"]} | {move_dict[\"k8\"]} | {move_dict[\"k9\"]} \\n   |   |   ')\n",
    "            print('-----------')\n",
    "            print(f'   |   |   \\n {move_dict[\"k4\"]} | {move_dict[\"k5\"]} | {move_dict[\"k6\"]} \\n   |   |   ')\n",
    "            print('-----------')\n",
    "            print(f'   |   |   \\n {move_dict[\"k1\"]} | {move_dict[\"k2\"]} | {move_dict[\"k3\"]} \\n   |   |   ')\n",
    "            if check_win(move_dict):\n",
    "                print(\"Félicitations!!!!!!!!! vous avez gagné !!!!!!\")\n",
    "                if i%2==0:\n",
    "                    points_p1+=1\n",
    "                else:\n",
    "                    points_p2+=1\n",
    "                print(f\"SCORE:  France={points_p1}  India={points_p2}\")\n",
    "                break\n",
    "        else:\n",
    "            print(\"C'est un match nul :( \")\n",
    "        is_ready=input('Voulez-vous rejouer??\\n')\n",
    "        clear_output()\n",
    "\n",
    "        \n",
    "        "
   ]
  },
  {
   "cell_type": "code",
   "execution_count": null,
   "metadata": {},
   "outputs": [],
   "source": []
  },
  {
   "cell_type": "code",
   "execution_count": null,
   "metadata": {
    "collapsed": true
   },
   "outputs": [],
   "source": []
  },
  {
   "cell_type": "code",
   "execution_count": null,
   "metadata": {
    "collapsed": true
   },
   "outputs": [],
   "source": []
  },
  {
   "cell_type": "code",
   "execution_count": null,
   "metadata": {
    "collapsed": true
   },
   "outputs": [],
   "source": []
  },
  {
   "cell_type": "code",
   "execution_count": null,
   "metadata": {
    "collapsed": true
   },
   "outputs": [],
   "source": []
  }
 ],
 "metadata": {
  "kernelspec": {
   "display_name": "Python 3",
   "language": "python",
   "name": "python3"
  },
  "language_info": {
   "codemirror_mode": {
    "name": "ipython",
    "version": 3
   },
   "file_extension": ".py",
   "mimetype": "text/x-python",
   "name": "python",
   "nbconvert_exporter": "python",
   "pygments_lexer": "ipython3",
   "version": "3.6.3"
  }
 },
 "nbformat": 4,
 "nbformat_minor": 1
}
